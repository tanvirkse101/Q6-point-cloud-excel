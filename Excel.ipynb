{
 "cells": [
  {
   "cell_type": "markdown",
   "id": "5cc20a78-4938-4b0d-99d2-85b446ed5df4",
   "metadata": {},
   "source": [
    "## Import Libraries ##"
   ]
  },
  {
   "cell_type": "code",
   "execution_count": 1,
   "id": "2adde278-a34b-424b-a4e0-c0cd152235f0",
   "metadata": {},
   "outputs": [],
   "source": [
    "import laspy\n",
    "import pandas as pd"
   ]
  },
  {
   "cell_type": "markdown",
   "id": "a1f114aa-ffba-4ab5-8f1c-3b6637621d8a",
   "metadata": {},
   "source": [
    "## Load .las file ##"
   ]
  },
  {
   "cell_type": "code",
   "execution_count": 2,
   "id": "9539a3f2-ff85-464a-8911-45bbd397fb9a",
   "metadata": {},
   "outputs": [],
   "source": [
    "input_file = r'C:\\Users\\Tanvir\\Downloads\\Personal\\points.las'\n",
    "in_file = laspy.read(input_file)"
   ]
  },
  {
   "cell_type": "markdown",
   "id": "2d05dc17-b446-4e67-92bb-69b00540ce88",
   "metadata": {},
   "source": [
    "## Point Cloud data ##"
   ]
  },
  {
   "cell_type": "code",
   "execution_count": 3,
   "id": "8947ab27-b272-400e-bc68-6f828bad7985",
   "metadata": {},
   "outputs": [],
   "source": [
    "x = in_file.points[\"X\"]\n",
    "y = in_file.points[\"Y\"]\n",
    "z = in_file.points[\"Z\"]\n",
    "intensity = in_file.points[\"intensity\"]"
   ]
  },
  {
   "cell_type": "markdown",
   "id": "9b8862a5-237e-4e8e-b1c2-d8f70146bdf5",
   "metadata": {},
   "source": [
    "## Find Mean intensity for demo only ##"
   ]
  },
  {
   "cell_type": "code",
   "execution_count": 4,
   "id": "22d9105d-948f-4044-ba5b-e7c5509d83b4",
   "metadata": {},
   "outputs": [],
   "source": [
    "mean_intensity = intensity.mean()"
   ]
  },
  {
   "cell_type": "markdown",
   "id": "953b099a-4d40-4d49-9081-00850e930a8a",
   "metadata": {},
   "source": [
    "## Dataframe ##"
   ]
  },
  {
   "cell_type": "code",
   "execution_count": 5,
   "id": "7dce927f-93eb-4432-b072-dd4e0fa666b6",
   "metadata": {},
   "outputs": [],
   "source": [
    "data = pd.DataFrame({\"X\": x, \"Y\": y, \"Z\": z, \"intensity\": intensity})\n",
    "output_path = r'C:\\Users\\Tanvir\\Downloads\\Personal\\mean-intensity.csv'\n",
    "data.to_csv(output_path, index=False)"
   ]
  },
  {
   "cell_type": "markdown",
   "id": "4ac19387-cf45-4aff-902a-70b6cdbb4a06",
   "metadata": {},
   "source": [
    "## Verify ##"
   ]
  },
  {
   "cell_type": "code",
   "execution_count": 6,
   "id": "e20bc417-18f1-4bb8-82d9-c7c094eed0fa",
   "metadata": {
    "scrolled": true
   },
   "outputs": [
    {
     "name": "stdout",
     "output_type": "stream",
     "text": [
      "          X         Y      Z  intensity\n",
      "0 -19116855 -26871757  19539         50\n",
      "1 -19116412 -26873354  20546         46\n",
      "2 -19117179 -26872074  19674         46\n",
      "3 -19118225 -26871678  19269         50\n",
      "4 -19117475 -26872930  20147         52\n"
     ]
    }
   ],
   "source": [
    "df_loaded = pd.read_csv(output_path)\n",
    "print(df_loaded.head())"
   ]
  }
 ],
 "metadata": {
  "kernelspec": {
   "display_name": "Python 3 (ipykernel)",
   "language": "python",
   "name": "python3"
  },
  "language_info": {
   "codemirror_mode": {
    "name": "ipython",
    "version": 3
   },
   "file_extension": ".py",
   "mimetype": "text/x-python",
   "name": "python",
   "nbconvert_exporter": "python",
   "pygments_lexer": "ipython3",
   "version": "3.11.4"
  }
 },
 "nbformat": 4,
 "nbformat_minor": 5
}
